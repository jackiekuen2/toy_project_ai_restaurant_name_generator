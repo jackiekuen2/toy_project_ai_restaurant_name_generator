{
 "cells": [
  {
   "cell_type": "code",
   "execution_count": 11,
   "id": "e1e5427a-f2f3-4661-af68-2ff562261aeb",
   "metadata": {},
   "outputs": [],
   "source": [
    "# from openai import AzureOpenAI\n",
    "from langchain_openai import AzureChatOpenAI"
   ]
  },
  {
   "cell_type": "markdown",
   "id": "972ab2fb",
   "metadata": {},
   "source": [
    "## Setup of LLM"
   ]
  },
  {
   "cell_type": "code",
   "execution_count": null,
   "id": "ae70d382",
   "metadata": {},
   "outputs": [],
   "source": [
    "azure_endpoint = \"<AZURE_ENDPOINT_URL>\"\n",
    "azure_key = \"<AZURE_KEY>\"\n",
    "\n",
    "openai_api_version = \"2024-05-01-preview\"\n",
    "deployment_name = \"gpt-4o-mini\""
   ]
  },
  {
   "cell_type": "code",
   "execution_count": 13,
   "id": "130e93e1",
   "metadata": {},
   "outputs": [],
   "source": [
    "llm = AzureChatOpenAI(\n",
    "    azure_endpoint=azure_endpoint,\n",
    "    api_key=azure_key,\n",
    "    azure_deployment=deployment_name,\n",
    "    api_version=openai_api_version,\n",
    "    max_tokens=100,\n",
    "    temperature=0.7\n",
    ")"
   ]
  },
  {
   "cell_type": "code",
   "execution_count": 16,
   "id": "25e56da8",
   "metadata": {},
   "outputs": [
    {
     "name": "stdout",
     "output_type": "stream",
     "text": [
      "Here are five fancy name suggestions for your new Japanese restaurant:\n",
      "\n",
      "1. **Kaiseki Harmony**\n",
      "2. **Sakura Essence**\n",
      "3. **Umami Atelier**\n",
      "4. **Nobu's Whisper**\n",
      "5. **Zen Garden Cuisine**\n",
      "\n",
      "Feel free to mix and match or use these as inspiration for your restaurant's unique identity!\n"
     ]
    }
   ],
   "source": [
    "prompt = \"I want to open a new Japanese restaurant. Suggest a fancy name. Give me 5 suggestions.\"\n",
    "response = llm(prompt)\n",
    "print(response.content)"
   ]
  },
  {
   "cell_type": "code",
   "execution_count": 15,
   "id": "b3cdffeb",
   "metadata": {},
   "outputs": [],
   "source": [
    "# client = AzureOpenAI(\n",
    "#     api_key=azure_key,\n",
    "#     azure_endpoint=azure_endpoint,\n",
    "#     api_version=openai_api_version\n",
    "# )\n",
    "\n",
    "# response = client.chat.completions.create(\n",
    "#     model = deployment_name,\n",
    "#     messages=[{\"role\": \"user\", \"content\": \"I want to open a new restaurant, give me 5 suggestions of the restaurant name\"}],\n",
    "#     max_tokens=128\n",
    "# )\n",
    "\n",
    "# print(response.choices[0].message.content)"
   ]
  }
 ],
 "metadata": {
  "kernelspec": {
   "display_name": "venv",
   "language": "python",
   "name": "python3"
  },
  "language_info": {
   "codemirror_mode": {
    "name": "ipython",
    "version": 3
   },
   "file_extension": ".py",
   "mimetype": "text/x-python",
   "name": "python",
   "nbconvert_exporter": "python",
   "pygments_lexer": "ipython3",
   "version": "3.13.1"
  }
 },
 "nbformat": 4,
 "nbformat_minor": 5
}
